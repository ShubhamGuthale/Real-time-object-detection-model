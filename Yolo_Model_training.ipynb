import os
os.chdir('/content/drive/MyDrive/Yolo_training')

ls

#!git clone https://github.com/ultralytics/yolov5.git

os.chdir('yolov5')

ls

!pip install -r requirements.txt

#Training YOLO v5 model
!python train.py --data data.yaml --cfg yolov5s.yaml --batch-size 8 --name Model --epochs 50

!python export.py --weights runs/train/Model/weights/best.pt --include onnx --simplify --opset 12

#Done collecting onnx
